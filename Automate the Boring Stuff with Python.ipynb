{
 "cells": [
  {
   "cell_type": "markdown",
   "metadata": {},
   "source": [
    "# Automate the Boring Stuff with Python"
   ]
  },
  {
   "cell_type": "markdown",
   "metadata": {},
   "source": [
    "## Basics"
   ]
  },
  {
   "cell_type": "code",
   "execution_count": 12,
   "metadata": {
    "collapsed": false
   },
   "outputs": [
    {
     "name": "stdout",
     "output_type": "stream",
     "text": [
      "[8, 3, 3, 3.75, 6, 3, 4]\n"
     ]
    }
   ],
   "source": [
    "# Operators:\n",
    "## Order-1st: **; 2nd: *,/,//,%; 3rd: +,-\n",
    "listOper = [2**3,15%4,15//4,15/4,2*3,5-2,1+3]"
   ]
  },
  {
   "cell_type": "code",
   "execution_count": null,
   "metadata": {
    "collapsed": true
   },
   "outputs": [],
   "source": [
    "# Data types: integer(int),floating-point(float),string\n",
    "dataTypes = {'int':4,'float':3.0,'string':'hello'}\n",
    "\n",
    "## String concatenation and replication\n",
    "strCon = 'hello'+'world'\n",
    "### Error: 'hello'+42\n",
    "strRep = 'Hello'*3\n",
    "### Error: 'hello'*'world'; 'hello'*3.0"
   ]
  },
  {
   "cell_type": "code",
   "execution_count": null,
   "metadata": {
    "collapsed": true
   },
   "outputs": [],
   "source": [
    "# Assignment operator: =\n",
    "# Storing value in variables\n",
    "v = 2"
   ]
  },
  {
   "cell_type": "code",
   "execution_count": null,
   "metadata": {
    "collapsed": true
   },
   "outputs": [],
   "source": [
    "# bulit-in functions:\n",
    "name = input()\n",
    "print(name)"
   ]
  },
  {
   "cell_type": "markdown",
   "metadata": {},
   "source": [
    "## Flow control"
   ]
  },
  {
   "cell_type": "code",
   "execution_count": 13,
   "metadata": {
    "collapsed": false
   },
   "outputs": [
    {
     "data": {
      "text/plain": [
       "False"
      ]
     },
     "execution_count": 13,
     "metadata": {},
     "output_type": "execute_result"
    }
   ],
   "source": [
    "# Boolean values: True,False\n",
    "\n",
    "# Comparison operators: ==, !=, <, >, <=, >=\n",
    "## They return boolean values.\n",
    "\n",
    "# Boolean operators: and, or, not\n",
    "## They take two boolean values.\n",
    "\n",
    "(4>5) and (3==3)"
   ]
  },
  {
   "cell_type": "code",
   "execution_count": null,
   "metadata": {
    "collapsed": true
   },
   "outputs": [],
   "source": [
    "# If\n",
    "## Use flowchart to represent flow control.\n",
    "day = 'Monday'\n",
    "if day == 'Monday':\n",
    "    print(\"It's new week.\")\n",
    "elif day == 'Friday':\n",
    "    print(\"It's happy to Friday!\")\n",
    "else:\n",
    "    print(\"Nothing today.\")"
   ]
  },
  {
   "cell_type": "code",
   "execution_count": null,
   "metadata": {
    "collapsed": true
   },
   "outputs": [],
   "source": [
    "# While\n",
    "## continue and break\n",
    "n = 1\n",
    "while n<5:\n",
    "    print(\"We need more.\")\n",
    "    n += 1 ## \n",
    "print(\"Enough.\")\n",
    "\n",
    "while True:\n",
    "    print('Who are you?')\n",
    "    name = input()\n",
    "    if name != 'Joe':       \n",
    "        continue              \n",
    "    print('Hello, Joe. What is the password? (It is a fish.)') \n",
    "    password = input()     \n",
    "    if password == 'swordfish':\n",
    "        break                 \n",
    "print('Access granted.')"
   ]
  },
  {
   "cell_type": "code",
   "execution_count": null,
   "metadata": {
    "collapsed": true
   },
   "outputs": [],
   "source": [
    "# For\n",
    "print('My name is')\n",
    "for i in range(5):\n",
    "    print('Jimmy Five Times (' + str(i) + ')')"
   ]
  },
  {
   "cell_type": "code",
   "execution_count": 26,
   "metadata": {
    "collapsed": true
   },
   "outputs": [],
   "source": [
    "# Import\n",
    "## 1st method: Not recommended\n",
    "from random import *\n",
    "randint(1,10)\n",
    "\n",
    "## 2nd method:\n",
    "import random\n",
    "random.randint(1,10)\n",
    "\n",
    "## random is a module's name\n",
    "## randint is a function in random module.\n",
    "## from random import * will not need the random."
   ]
  },
  {
   "cell_type": "code",
   "execution_count": 2,
   "metadata": {
    "collapsed": false
   },
   "outputs": [
    {
     "data": {
      "text/plain": [
       "10"
      ]
     },
     "execution_count": 2,
     "metadata": {},
     "output_type": "execute_result"
    }
   ],
   "source": [
    "# sys.exit()\n",
    "import sys\n",
    "\n",
    "while True:\n",
    "    print('Type exit to exit.')\n",
    "    response = input()\n",
    "    if response == 'exit':\n",
    "        sys.exit()\n",
    "    print('You typed ' + response + '.')"
   ]
  },
  {
   "cell_type": "markdown",
   "metadata": {},
   "source": [
    "## Functions"
   ]
  },
  {
   "cell_type": "code",
   "execution_count": null,
   "metadata": {
    "collapsed": true
   },
   "outputs": [],
   "source": [
    "# Def functions\n",
    "## name is an argument.\n",
    "def hello(name):\n",
    "    print(\"hello\"+name)\n",
    "    \n",
    "# Call functions:\n",
    "hello(\"Anna\")\n",
    "\n",
    "# Keyword arguments\n",
    "print(\"Hello\",end='\\n')\n",
    "print(\"World\")\n",
    "\n",
    "# Global scope and variables\n",
    "# Local scope and variables\n",
    "## Local Scopes Cannot Use Variables in Other Local Scopes\n",
    "## Global Variables Can Be Read from a Local Scope\n",
    "## Local and Global Variables with the Same Name\n",
    "\n",
    "## Global statement\n",
    "def spam():\n",
    "    global eggs\n",
    "    eggs = 'spam'\n",
    "\n",
    "eggs = 'global'\n",
    "spam()\n",
    "print(eggs)\n",
    "\n",
    "## Error:\n",
    "def spam_error():\n",
    "    print(eggs)\n",
    "    eggs = 'spam'\n",
    "eggs = 'global'\n",
    "spam()"
   ]
  },
  {
   "cell_type": "code",
   "execution_count": null,
   "metadata": {
    "collapsed": true
   },
   "outputs": [],
   "source": [
    "# Exception handing\n",
    "def spam(divideBy):\n",
    "    try:\n",
    "        return 42 / divideBy\n",
    "    except ZeroDivisionError:\n",
    "        print('Error: Invalid argument.')\n",
    "\n",
    "spam(0)"
   ]
  },
  {
   "cell_type": "markdown",
   "metadata": {},
   "source": [
    "## List and Tuple"
   ]
  },
  {
   "cell_type": "markdown",
   "metadata": {},
   "source": [
    "## Dictionary"
   ]
  },
  {
   "cell_type": "code",
   "execution_count": 26,
   "metadata": {
    "collapsed": false
   },
   "outputs": [
    {
     "name": "stdout",
     "output_type": "stream",
     "text": [
      "Inventory:\n",
      "1 dagger\n",
      "1 rope\n",
      "45 gold coin\n",
      "1 ruby\n",
      "Total number of items: 48\n"
     ]
    }
   ],
   "source": [
    "# Practice\n",
    "def addToInventory(inventory, addedItems):\n",
    "    # inventory: a dictionary, used to count inventory of player.\n",
    "    # addedItems: a list.\n",
    "    for each in addedItems:\n",
    "        inventory.setdefault(each,0)\n",
    "        inventory[each] += 1\n",
    "    return inventory\n",
    "\n",
    "def displayInventory(inventory):\n",
    "    print(\"Inventory:\")\n",
    "    item_total = 0\n",
    "    for k, v in inventory.items():\n",
    "        print(v,k)\n",
    "        item_total += v\n",
    "    print(\"Total number of items: \" + str(item_total))\n",
    "\n",
    "inv = {'gold coin': 42, 'rope': 1}\n",
    "dragonLoot = ['gold coin', 'dagger', 'gold coin', 'gold coin', 'ruby']\n",
    "inv = addToInventory(inv, dragonLoot)\n",
    "displayInventory(inv)"
   ]
  },
  {
   "cell_type": "code",
   "execution_count": 19,
   "metadata": {
    "collapsed": false
   },
   "outputs": [
    {
     "name": "stdout",
     "output_type": "stream",
     "text": [
      "1 a\n",
      "2 b\n"
     ]
    }
   ],
   "source": [
    "dra"
   ]
  },
  {
   "cell_type": "code",
   "execution_count": 20,
   "metadata": {
    "collapsed": false
   },
   "outputs": [
    {
     "data": {
      "text/plain": [
       "'a'"
      ]
     },
     "execution_count": 20,
     "metadata": {},
     "output_type": "execute_result"
    }
   ],
   "source": [
    "d.get(1)"
   ]
  },
  {
   "cell_type": "code",
   "execution_count": 6,
   "metadata": {
    "collapsed": false
   },
   "outputs": [
    {
     "name": "stdout",
     "output_type": "stream",
     "text": [
      "[1505, 1540, 1575, 1610, 1645, 1680, 1715, 1750, 1785, 1820, 1855, 1890, 1925, 1960, 1995, 2030, 2065, 2100, 2135, 2170, 2205, 2240, 2275, 2310, 2345, 2380, 2415, 2450, 2485, 2520, 2555, 2590, 2625, 2660, 2695]\n"
     ]
    }
   ],
   "source": [
    "number = []\n",
    "for i in range(1500,2700):\n",
    "    if not i%7 and not i%5:\n",
    "        number.append(i)\n",
    "print(number)"
   ]
  },
  {
   "cell_type": "code",
   "execution_count": null,
   "metadata": {
    "collapsed": true
   },
   "outputs": [],
   "source": []
  }
 ],
 "metadata": {
  "anaconda-cloud": {},
  "kernelspec": {
   "display_name": "Python [default]",
   "language": "python",
   "name": "python3"
  }
 },
 "nbformat": 4,
 "nbformat_minor": 1
}
