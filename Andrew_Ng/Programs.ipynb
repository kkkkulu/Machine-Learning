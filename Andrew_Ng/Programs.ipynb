{
 "cells": [
  {
   "cell_type": "code",
   "execution_count": 2,
   "metadata": {},
   "outputs": [],
   "source": [
    "file_path = \"G:/Pro/ML-Ng\" # All files about machine learning of Ng"
   ]
  },
  {
   "cell_type": "markdown",
   "metadata": {},
   "source": [
    "# Programming Exercise 1: Linear Regression\n",
    "\n",
    "## 1 Simple function\n",
    "\n",
    "Applying a function to generate a 5x5 identity matrix."
   ]
  },
  {
   "cell_type": "code",
   "execution_count": 3,
   "metadata": {},
   "outputs": [],
   "source": [
    "import numpy as np"
   ]
  },
  {
   "cell_type": "code",
   "execution_count": 4,
   "metadata": {},
   "outputs": [],
   "source": [
    "def warm_up_exercise(n=5):\n",
    "    # returns the 5x5 identity matrix\n",
    "    \"\"\"\n",
    "    A = [[0]*n for _ in range(n)]\n",
    "    for i in range(n):\n",
    "        print(A[i])\n",
    "        A[i][i] = 1\n",
    "    \"\"\"    \n",
    "    # 2nd method:\n",
    "    ## A = np.identity(n)\n",
    "    A = np.eye(n)\n",
    "    \n",
    "    return A\n",
    "\n",
    "def list_2d_error(n=5):\n",
    "    a = [0]*n # [0,0,0,0,0]\n",
    "    A = [a]*n \n",
    "    # 表示5个指向a的引用，即5个list的浅拷贝的连接\n",
    "    # 真正有内存的只是a，A是5个指针内容的连接，这5个指针指向a\n",
    "    # 则修改任何一个元素会修改整个列表\n",
    "    print(A)\n",
    "    print(\"Assigning:\")\n",
    "    A[0][0] = 1 \n",
    "    # 结果是修改a[0]=1，由于是5个指向a的引用，故修改后A的第一列均为0\n",
    "    print(A)"
   ]
  },
  {
   "cell_type": "code",
   "execution_count": 5,
   "metadata": {},
   "outputs": [
    {
     "data": {
      "text/plain": [
       "array([[1., 0., 0., 0., 0.],\n",
       "       [0., 1., 0., 0., 0.],\n",
       "       [0., 0., 1., 0., 0.],\n",
       "       [0., 0., 0., 1., 0.],\n",
       "       [0., 0., 0., 0., 1.]])"
      ]
     },
     "execution_count": 5,
     "metadata": {},
     "output_type": "execute_result"
    }
   ],
   "source": [
    "warm_up_exercise()"
   ]
  },
  {
   "cell_type": "markdown",
   "metadata": {},
   "source": [
    "**datasets**\n",
    "- ex1data1.txt: Dataset for linear regression with `one` variable\n",
    "- ex1data2.txt: Dataset for linear regression with `multiple` variables\n",
    "\n",
    "\n",
    "## 2 Linear regression with one variable\n",
    "\n",
    "Suppose you are the CEO of a restaurant franchise and are considering different cities for opening a new outlet. The chain already has trucks in various cities and you have data for profits and populations from the cities.\n",
    "\n",
    "You would like to use this data to help you select which city to expand\n",
    "to next.\n",
    "\n",
    "The file `ex1data1.txt` contains the dataset for our problem. The first column is the **population of a city** and the second column is the **profit of a food truck** in that city. A negative value for profit indicates a loss.\n",
    "\n",
    "### 2.1 Loading and visualizing data\n",
    "\n",
    "Before starting on any task, it is often useful to understand the data by\n",
    "**visualizing** it."
   ]
  },
  {
   "cell_type": "code",
   "execution_count": 6,
   "metadata": {},
   "outputs": [],
   "source": [
    "import pandas as pd"
   ]
  },
  {
   "cell_type": "code",
   "execution_count": 7,
   "metadata": {},
   "outputs": [
    {
     "data": {
      "text/html": [
       "<div>\n",
       "<style scoped>\n",
       "    .dataframe tbody tr th:only-of-type {\n",
       "        vertical-align: middle;\n",
       "    }\n",
       "\n",
       "    .dataframe tbody tr th {\n",
       "        vertical-align: top;\n",
       "    }\n",
       "\n",
       "    .dataframe thead th {\n",
       "        text-align: right;\n",
       "    }\n",
       "</style>\n",
       "<table border=\"1\" class=\"dataframe\">\n",
       "  <thead>\n",
       "    <tr style=\"text-align: right;\">\n",
       "      <th></th>\n",
       "      <th>population</th>\n",
       "      <th>profits</th>\n",
       "    </tr>\n",
       "  </thead>\n",
       "  <tbody>\n",
       "    <tr>\n",
       "      <th>0</th>\n",
       "      <td>6.1101</td>\n",
       "      <td>17.5920</td>\n",
       "    </tr>\n",
       "    <tr>\n",
       "      <th>1</th>\n",
       "      <td>5.5277</td>\n",
       "      <td>9.1302</td>\n",
       "    </tr>\n",
       "    <tr>\n",
       "      <th>2</th>\n",
       "      <td>8.5186</td>\n",
       "      <td>13.6620</td>\n",
       "    </tr>\n",
       "  </tbody>\n",
       "</table>\n",
       "</div>"
      ],
      "text/plain": [
       "   population  profits\n",
       "0      6.1101  17.5920\n",
       "1      5.5277   9.1302\n",
       "2      8.5186  13.6620"
      ]
     },
     "execution_count": 7,
     "metadata": {},
     "output_type": "execute_result"
    }
   ],
   "source": [
    "# Firstly, read data from ex1data1.txt\n",
    "pro_path = \"/machine-learning-ex1/ex1/\"\n",
    "data = pd.read_csv(file_path+pro_path+'ex1data1.txt',names=['population','profits'])\n",
    "data.head(3)"
   ]
  },
  {
   "cell_type": "code",
   "execution_count": 8,
   "metadata": {},
   "outputs": [
    {
     "name": "stdout",
     "output_type": "stream",
     "text": [
      "<class 'pandas.core.frame.DataFrame'>\n",
      "RangeIndex: 97 entries, 0 to 96\n",
      "Data columns (total 2 columns):\n",
      "population    97 non-null float64\n",
      "profits       97 non-null float64\n",
      "dtypes: float64(2)\n",
      "memory usage: 1.6 KB\n"
     ]
    }
   ],
   "source": [
    "data.info()"
   ]
  },
  {
   "cell_type": "code",
   "execution_count": 9,
   "metadata": {},
   "outputs": [],
   "source": [
    "x = np.array(data.population) # x refers to the population size in 10,000s\n",
    "y = np.array(data.profits) # y refers to the profit in $10,000s"
   ]
  },
  {
   "cell_type": "code",
   "execution_count": 10,
   "metadata": {},
   "outputs": [],
   "source": [
    "import matplotlib.pyplot as plt\n",
    "%matplotlib inline"
   ]
  },
  {
   "cell_type": "code",
   "execution_count": 11,
   "metadata": {
    "scrolled": true
   },
   "outputs": [
    {
     "data": {
      "image/png": "[encoded data removed]",
      "text/plain": [
       "<Figure size 432x288 with 1 Axes>"
      ]
     },
     "metadata": {},
     "output_type": "display_data"
    }
   ],
   "source": [
    "# plot the data\n",
    "plt.scatter(x,y,marker='x',c='red')\n",
    "plt.ylabel('Profit in $10,000s')\n",
    "plt.xlabel('Population of City in 10,000s')\n",
    "plt.title('Scatter plot of training data')\n",
    "plt.show()"
   ]
  },
  {
   "cell_type": "markdown",
   "metadata": {},
   "source": [
    "### 2.2 Gradient Descent\n",
    "\n",
    "In this part, you will fit the linear regression parameters $\\theta$ to our dataset using gradient descent.\n",
    "\n",
    "The objective of linear regression is to minimize the cost function\n",
    "$$\n",
    "J(\\theta) = \\frac{1}{2m} \\sum_{i=1}^{m} (h(x^i)-y^i)^2\n",
    "$$\n",
    "\n",
    "where $h(x)$ is  given by the linear model\n",
    "$$\n",
    "h(x) = \\theta^T x = \\theta_0 + \\theta_1 x_1\n",
    "$$\n",
    "\n",
    "We store each example as a row in $X$ matrix."
   ]
  },
  {
   "cell_type": "code",
   "execution_count": 12,
   "metadata": {},
   "outputs": [
    {
     "data": {
      "text/plain": [
       "array([[1.    , 6.1101],\n",
       "       [1.    , 5.5277],\n",
       "       [1.    , 8.5186]])"
      ]
     },
     "execution_count": 12,
     "metadata": {},
     "output_type": "execute_result"
    }
   ],
   "source": [
    "x_train = np.append(np.ones((data.shape[0],1)),x[:,np.newaxis],axis=1) \n",
    "# Add a column of ones to accommodate the theta_0\n",
    "# x_train: shape of (examples,features),features includes 1 for theta_0\n",
    "x_train[:3]"
   ]
  },
  {
   "cell_type": "code",
   "execution_count": 13,
   "metadata": {},
   "outputs": [
    {
     "data": {
      "text/plain": [
       "array([0., 0.])"
      ]
     },
     "execution_count": 13,
     "metadata": {},
     "output_type": "execute_result"
    }
   ],
   "source": [
    "theta = np.zeros((2,)) # Initializing parameters\n",
    "theta"
   ]
  },
  {
   "cell_type": "markdown",
   "metadata": {},
   "source": [
    "**1. computing the cost function**\n",
    "\n",
    "As you perform gradient descent to minimize cost function $J(\\theta)$,it is helpful to **monitor the convergence by computing the cost**. \n",
    "\n",
    "The variables x and y are matrices whose rows represent the examples."
   ]
  },
  {
   "cell_type": "code",
   "execution_count": 14,
   "metadata": {},
   "outputs": [],
   "source": [
    "def compute_cost(x,y,theta):\n",
    "    \n",
    "    m = np.dot(x,theta).reshape(-1,)-y\n",
    "    cost = np.dot(m.T,m)/(2*len(y))\n",
    "    \n",
    "    return round(cost,2)"
   ]
  },
  {
   "cell_type": "code",
   "execution_count": 15,
   "metadata": {},
   "outputs": [
    {
     "name": "stdout",
     "output_type": "stream",
     "text": [
      "Testing the cost function ...\n",
      "With theta = [0 ; 0]\n",
      "Cost computed = 32.07\n",
      "\n",
      "With theta = [-1; 2]\n",
      "Cost computed = 54.24\n",
      "\n"
     ]
    }
   ],
   "source": [
    "print(\"Testing the cost function ...\")\n",
    "cost = compute_cost(x_train,y,theta)\n",
    "print('With theta = [0 ; 0]\\nCost computed = %.2f\\n'% cost)\n",
    "cost = compute_cost(x_train,y,[-1,2])\n",
    "print('With theta = [-1; 2]\\nCost computed = %.2f\\n'% cost)"
   ]
  },
  {
   "cell_type": "markdown",
   "metadata": {},
   "source": [
    "**2. Gradient descent**\n",
    "\n",
    "Keep in mind that the cost $J(\\theta)$ is parameterized by the vector $\\theta$, not x and y.\n",
    "\n",
    "A good way to verify that gradient descent is working correctly is to look at the value of $J(\\theta)$ and check that it is decreasing with each step."
   ]
  },
  {
   "cell_type": "code",
   "execution_count": 16,
   "metadata": {},
   "outputs": [],
   "source": [
    "def gradient_descent(x,y,theta,learning_rate,num_iters):\n",
    "    m = len(y) # number of examples\n",
    "    cost_history = np.zeros(num_iters)\n",
    "    for i in range(num_iters):\n",
    "        cost_history[i] = compute_cost(x,y,theta)\n",
    "        h = np.dot(x,theta).reshape(-1,) - y\n",
    "        theta = theta - learning_rate*np.dot(x.T,h/m)\n",
    "    return theta,cost_history"
   ]
  },
  {
   "cell_type": "code",
   "execution_count": 17,
   "metadata": {},
   "outputs": [
    {
     "name": "stdout",
     "output_type": "stream",
     "text": [
      "Running Gradient Descent ...\n",
      "Theta found by gradient descent:\n",
      "[-3.63029144  1.16636235]\n"
     ]
    }
   ],
   "source": [
    "print(\"Running Gradient Descent ...\")\n",
    "iterations = 1500\n",
    "alpha = 0.01 # learning rate\n",
    "optimal_theta,cost_history = gradient_descent(x_train,y,theta,alpha,iterations)\n",
    "print(\"Theta found by gradient descent:\")\n",
    "print(optimal_theta)"
   ]
  },
  {
   "cell_type": "markdown",
   "metadata": {},
   "source": [
    "**3. Visualizing training loss**"
   ]
  },
  {
   "cell_type": "code",
   "execution_count": 18,
   "metadata": {},
   "outputs": [
    {
     "data": {
      "image/png": "[encoded data removed]",
      "text/plain": [
       "<Figure size 432x288 with 1 Axes>"
      ]
     },
     "metadata": {},
     "output_type": "display_data"
    }
   ],
   "source": [
    "plt.plot(range(iterations),cost_history)\n",
    "plt.xlabel(\"Iters\")\n",
    "plt.ylabel(\"Loss\")\n",
    "plt.title(\"Traing loss by gradient descent\")\n",
    "plt.show()"
   ]
  },
  {
   "cell_type": "markdown",
   "metadata": {},
   "source": [
    "**4. Visualizing linear regression**\n",
    "\n",
    "We will use your final parameters to plot the linear fit."
   ]
  },
  {
   "cell_type": "code",
   "execution_count": 19,
   "metadata": {},
   "outputs": [
    {
     "data": {
      "image/png": "[encoded data removed]",
      "text/plain": [
       "<Figure size 432x288 with 1 Axes>"
      ]
     },
     "metadata": {},
     "output_type": "display_data"
    }
   ],
   "source": [
    "plt.plot(data.population,np.dot(x_train,optimal_theta),label=\"Linear regression\")\n",
    "plt.scatter(x,y,marker='x',c='red',label=\"Training data\")\n",
    "plt.ylabel('Profit in $10,000s')\n",
    "plt.xlabel('Population of City in 10,000s')\n",
    "plt.title('training data with linear regression fit')\n",
    "plt.legend()\n",
    "plt.show()"
   ]
  },
  {
   "cell_type": "markdown",
   "metadata": {},
   "source": [
    "**5. Predictiton**\n",
    "\n",
    "Our final parameters will also be used to predict profits in areas of 35,000 and 70,000 people."
   ]
  },
  {
   "cell_type": "code",
   "execution_count": 20,
   "metadata": {},
   "outputs": [
    {
     "data": {
      "text/plain": [
       "array([0.45197679, 4.53424501])"
      ]
     },
     "execution_count": 20,
     "metadata": {},
     "output_type": "execute_result"
    }
   ],
   "source": [
    "# predict profits for 35,000 and 70,000 people.\n",
    "np.dot([[1,3.5],[1,7]],optimal_theta) "
   ]
  },
  {
   "cell_type": "markdown",
   "metadata": {},
   "source": [
    "### 2.3 Debugging\n",
    "\n",
    "-  If there are errors at runtime, inspect matrix operations to make sure that you’re adding and multiplying matrices of `compatible dimensions`. Printing the dimensions of variables."
   ]
  },
  {
   "cell_type": "markdown",
   "metadata": {},
   "source": [
    "### 2.4 Visualizing $J(\\theta)$\n",
    "\n",
    "To understand the cost function $J(\\theta)$ better, you will now plot the cost over a 2-dimensional grid of $\\theta_0$ and $\\theta_1$ values."
   ]
  },
  {
   "cell_type": "code",
   "execution_count": 21,
   "metadata": {},
   "outputs": [
    {
     "name": "stdout",
     "output_type": "stream",
     "text": [
      "Visualizing loss with respect to parameters ...\n",
      "11 11\n"
     ]
    }
   ],
   "source": [
    "print(\"Visualizing loss with respect to parameters ...\")\n",
    "theta0_vals = np.arange(-10,12,2)\n",
    "theta1_vals = np.arange(-1,4.5,0.5)\n",
    "print(len(theta0_vals),len(theta1_vals))"
   ]
  },
  {
   "cell_type": "code",
   "execution_count": 22,
   "metadata": {},
   "outputs": [
    {
     "name": "stdout",
     "output_type": "stream",
     "text": [
      "(11, 11)\n"
     ]
    }
   ],
   "source": [
    "J_vals = np.zeros((len(theta0_vals),len(theta1_vals)))\n",
    "for i in range(len(theta0_vals)):\n",
    "    for j in range(len(theta1_vals)):\n",
    "        t = [theta0_vals[i],theta1_vals[j]]\n",
    "        J_vals[i][j] = compute_cost(x_train,y,t)\n",
    "print(J_vals.shape)"
   ]
  },
  {
   "cell_type": "code",
   "execution_count": 23,
   "metadata": {},
   "outputs": [
    {
     "name": "stdout",
     "output_type": "stream",
     "text": [
      "(11, 11) (11, 11)\n"
     ]
    }
   ],
   "source": [
    "theta0_vals,theta1_vals = np.meshgrid(theta0_vals,theta1_vals)\n",
    "print(theta0_vals.shape,theta1_vals.shape)"
   ]
  },
  {
   "cell_type": "code",
   "execution_count": 24,
   "metadata": {},
   "outputs": [],
   "source": [
    "from mpl_toolkits.mplot3d import Axes3D"
   ]
  },
  {
   "cell_type": "code",
   "execution_count": 25,
   "metadata": {},
   "outputs": [
    {
     "data": {
      "image/png": "[encoded data removed]",
      "text/plain": [
       "<Figure size 432x288 with 1 Axes>"
      ]
     },
     "metadata": {},
     "output_type": "display_data"
    }
   ],
   "source": [
    "fig = plt.figure()\n",
    "ax = Axes3D(fig)\n",
    "ax.plot_surface(theta0_vals, theta1_vals, J_vals.T,cmap = plt.cm.coolwarm)\n",
    "plt.xlabel('theta0')\n",
    "plt.ylabel('theta1')\n",
    "plt.show()"
   ]
  },
  {
   "cell_type": "code",
   "execution_count": 26,
   "metadata": {},
   "outputs": [
    {
     "data": {
      "image/png": "[encoded data removed]",
      "text/plain": [
       "<Figure size 432x288 with 1 Axes>"
      ]
     },
     "metadata": {},
     "output_type": "display_data"
    }
   ],
   "source": [
    "# 填充颜色\n",
    "# plt.contourf(theta0_vals,theta1_vals,J_vals.T,np.logspace(-2, 3, 20))\n",
    "# 绘制等高线\n",
    "C = plt.contour(theta0_vals,theta1_vals,J_vals.T,12,cmap=plt.cm.viridis)\n",
    "# 显示各等高线的数据标签\n",
    "plt.clabel(C,inline = True,fontsize=10)\n",
    "plt.xlabel(\"theta0\")\n",
    "plt.ylabel(\"theta1\")\n",
    "plt.plot(optimal_theta[0],optimal_theta[1],marker='x',c='red')\n",
    "# theta for minimimal loss\n",
    "plt.show()"
   ]
  },
  {
   "cell_type": "markdown",
   "metadata": {},
   "source": [
    "The cost function $J(\\theta)$ is bowl-shaped and has a global\n",
    "mininum."
   ]
  },
  {
   "cell_type": "markdown",
   "metadata": {},
   "source": [
    "## 3 Linear regression with multiple variables\n",
    "\n",
    "Suppose you are selling your house and you want to know what a good market price would be. One way to do this is to first collect information on recent houses sold and make a model of housing prices.\n",
    "\n",
    "The file `ex1data2.txt` contains a training set of housing prices in Portland, Oregon. The first column is the `size` of the house (in square feet), the second column is `the number of bedrooms`, and the third column is `the price of the house`."
   ]
  },
  {
   "cell_type": "code",
   "execution_count": 27,
   "metadata": {},
   "outputs": [
    {
     "data": {
      "text/html": [
       "<div>\n",
       "<style scoped>\n",
       "    .dataframe tbody tr th:only-of-type {\n",
       "        vertical-align: middle;\n",
       "    }\n",
       "\n",
       "    .dataframe tbody tr th {\n",
       "        vertical-align: top;\n",
       "    }\n",
       "\n",
       "    .dataframe thead th {\n",
       "        text-align: right;\n",
       "    }\n",
       "</style>\n",
       "<table border=\"1\" class=\"dataframe\">\n",
       "  <thead>\n",
       "    <tr style=\"text-align: right;\">\n",
       "      <th></th>\n",
       "      <th>size</th>\n",
       "      <th>bed_num</th>\n",
       "      <th>price</th>\n",
       "    </tr>\n",
       "  </thead>\n",
       "  <tbody>\n",
       "    <tr>\n",
       "      <th>0</th>\n",
       "      <td>2104</td>\n",
       "      <td>3</td>\n",
       "      <td>399900</td>\n",
       "    </tr>\n",
       "    <tr>\n",
       "      <th>1</th>\n",
       "      <td>1600</td>\n",
       "      <td>3</td>\n",
       "      <td>329900</td>\n",
       "    </tr>\n",
       "    <tr>\n",
       "      <th>2</th>\n",
       "      <td>2400</td>\n",
       "      <td>3</td>\n",
       "      <td>369000</td>\n",
       "    </tr>\n",
       "  </tbody>\n",
       "</table>\n",
       "</div>"
      ],
      "text/plain": [
       "   size  bed_num   price\n",
       "0  2104        3  399900\n",
       "1  1600        3  329900\n",
       "2  2400        3  369000"
      ]
     },
     "execution_count": 27,
     "metadata": {},
     "output_type": "execute_result"
    }
   ],
   "source": [
    "data_m = pd.read_csv(file_path+pro_path+'ex1data2.txt',\\\n",
    "                     names=['size','bed_num','price'])\n",
    "data_m.head(3)"
   ]
  },
  {
   "cell_type": "code",
   "execution_count": 28,
   "metadata": {},
   "outputs": [
    {
     "data": {
      "text/html": [
       "<div>\n",
       "<style scoped>\n",
       "    .dataframe tbody tr th:only-of-type {\n",
       "        vertical-align: middle;\n",
       "    }\n",
       "\n",
       "    .dataframe tbody tr th {\n",
       "        vertical-align: top;\n",
       "    }\n",
       "\n",
       "    .dataframe thead th {\n",
       "        text-align: right;\n",
       "    }\n",
       "</style>\n",
       "<table border=\"1\" class=\"dataframe\">\n",
       "  <thead>\n",
       "    <tr style=\"text-align: right;\">\n",
       "      <th></th>\n",
       "      <th>size</th>\n",
       "      <th>bed_num</th>\n",
       "      <th>price</th>\n",
       "    </tr>\n",
       "  </thead>\n",
       "  <tbody>\n",
       "    <tr>\n",
       "      <th>count</th>\n",
       "      <td>47.000000</td>\n",
       "      <td>47.000000</td>\n",
       "      <td>47.000000</td>\n",
       "    </tr>\n",
       "    <tr>\n",
       "      <th>mean</th>\n",
       "      <td>2000.680851</td>\n",
       "      <td>3.170213</td>\n",
       "      <td>340412.659574</td>\n",
       "    </tr>\n",
       "    <tr>\n",
       "      <th>std</th>\n",
       "      <td>794.702354</td>\n",
       "      <td>0.760982</td>\n",
       "      <td>125039.899586</td>\n",
       "    </tr>\n",
       "    <tr>\n",
       "      <th>min</th>\n",
       "      <td>852.000000</td>\n",
       "      <td>1.000000</td>\n",
       "      <td>169900.000000</td>\n",
       "    </tr>\n",
       "    <tr>\n",
       "      <th>25%</th>\n",
       "      <td>1432.000000</td>\n",
       "      <td>3.000000</td>\n",
       "      <td>249900.000000</td>\n",
       "    </tr>\n",
       "    <tr>\n",
       "      <th>50%</th>\n",
       "      <td>1888.000000</td>\n",
       "      <td>3.000000</td>\n",
       "      <td>299900.000000</td>\n",
       "    </tr>\n",
       "    <tr>\n",
       "      <th>75%</th>\n",
       "      <td>2269.000000</td>\n",
       "      <td>4.000000</td>\n",
       "      <td>384450.000000</td>\n",
       "    </tr>\n",
       "    <tr>\n",
       "      <th>max</th>\n",
       "      <td>4478.000000</td>\n",
       "      <td>5.000000</td>\n",
       "      <td>699900.000000</td>\n",
       "    </tr>\n",
       "  </tbody>\n",
       "</table>\n",
       "</div>"
      ],
      "text/plain": [
       "              size    bed_num          price\n",
       "count    47.000000  47.000000      47.000000\n",
       "mean   2000.680851   3.170213  340412.659574\n",
       "std     794.702354   0.760982  125039.899586\n",
       "min     852.000000   1.000000  169900.000000\n",
       "25%    1432.000000   3.000000  249900.000000\n",
       "50%    1888.000000   3.000000  299900.000000\n",
       "75%    2269.000000   4.000000  384450.000000\n",
       "max    4478.000000   5.000000  699900.000000"
      ]
     },
     "execution_count": 28,
     "metadata": {},
     "output_type": "execute_result"
    }
   ],
   "source": [
    "data_m.describe()"
   ]
  },
  {
   "cell_type": "code",
   "execution_count": 29,
   "metadata": {},
   "outputs": [
    {
     "data": {
      "text/plain": [
       "(47, 2)"
      ]
     },
     "execution_count": 29,
     "metadata": {},
     "output_type": "execute_result"
    }
   ],
   "source": [
    "x_train = np.array(data_m[['size','bed_num']])\n",
    "x_train.shape"
   ]
  },
  {
   "cell_type": "code",
   "execution_count": 30,
   "metadata": {},
   "outputs": [
    {
     "data": {
      "text/plain": [
       "(47,)"
      ]
     },
     "execution_count": 30,
     "metadata": {},
     "output_type": "execute_result"
    }
   ],
   "source": [
    "y_train = np.array(data_m['price'])\n",
    "y_train.shape"
   ]
  },
  {
   "cell_type": "markdown",
   "metadata": {},
   "source": [
    "### 3.1 Feature Normalization\n",
    "\n",
    "We note that house sizes are about 1000 times the number of bedrooms. When features differ by orders of magnitude, first performing feature scaling can make **gradient descent converge much more quickly**.\n",
    "\n",
    "- subtract mean value\n",
    "- divide standard deviations\n",
    "\n",
    "The standard deviation is to measure how much variation there is\n",
    "in the range of values of a feature; this is an alternative to taking the range of values (max-min).\n",
    "\n",
    "We will do this for all the features.\n",
    "\n",
    "**Implementation Note:**\n",
    "\n",
    "When normalizing the features, it is important to store the values used for normalization - the mean value and the standard deviation used for the computations. \n",
    "\n",
    "After learning the parameters from the model, we often want to predict new examples. Given a new x value, we must first normalize x using the mean and standard deviation that we had previously computed **from the training set**."
   ]
  },
  {
   "cell_type": "code",
   "execution_count": 31,
   "metadata": {},
   "outputs": [],
   "source": [
    "def feature_normalize(x):\n",
    "    # subtract mean value and divide standard deviations\n",
    "    mean_v = np.mean(x,axis=0)\n",
    "    std_v = np.std(x,axis=0)\n",
    "    norm_x = (x-mean_v)/std_v\n",
    "    \n",
    "    return mean_v,std_v,norm_x"
   ]
  },
  {
   "cell_type": "code",
   "execution_count": 32,
   "metadata": {},
   "outputs": [
    {
     "name": "stdout",
     "output_type": "stream",
     "text": [
      "Features normalization ...\n",
      "[2000.68085106    3.17021277] [7.86202619e+02 7.52842809e-01] (47, 2)\n"
     ]
    }
   ],
   "source": [
    "print(\"Features normalization ...\")\n",
    "mean_train,std_train,x_norm = feature_normalize(x_train)\n",
    "print(mean_train,std_train,x_norm.shape)"
   ]
  },
  {
   "cell_type": "code",
   "execution_count": 33,
   "metadata": {},
   "outputs": [
    {
     "data": {
      "text/plain": [
       "array([[ 0.13141542, -0.22609337],\n",
       "       [-0.5096407 , -0.22609337],\n",
       "       [ 0.5079087 , -0.22609337],\n",
       "       [-0.74367706, -1.5543919 ],\n",
       "       [ 1.27107075,  1.10220517]])"
      ]
     },
     "execution_count": 33,
     "metadata": {},
     "output_type": "execute_result"
    }
   ],
   "source": [
    "x_norm[:5]"
   ]
  },
  {
   "cell_type": "code",
   "execution_count": 34,
   "metadata": {},
   "outputs": [],
   "source": [
    "# Add intercept term to X\n",
    "x_norm = np.concatenate((np.ones((len(y_train),1)),x_norm),axis=1)"
   ]
  },
  {
   "cell_type": "code",
   "execution_count": 35,
   "metadata": {},
   "outputs": [
    {
     "data": {
      "text/plain": [
       "(47, 3)"
      ]
     },
     "execution_count": 35,
     "metadata": {},
     "output_type": "execute_result"
    }
   ],
   "source": [
    "x_norm.shape"
   ]
  },
  {
   "cell_type": "markdown",
   "metadata": {},
   "source": [
    "### 3.2 Gradient Descent\n",
    "\n",
    "The functions of compute_cost and gradient_descent same as on a univariate regression.\n",
    "\n",
    "**1. Choosing apporiate learning rate**\n",
    "\n",
    "We will get to try out different learning rates and find a learning rate that converges quickly(about 50 iterations).\n",
    "\n",
    "If your learning rate is too large, loss can diverge and ‘blow up’, resulting in values which are too large for computer calculations. \n",
    "\n",
    "These situations will tend to returnNaNs. **NaN** stands for ‘not a number’ and is often caused by undefined operations that involve $+\\infty$ and $-\\infty$."
   ]
  },
  {
   "cell_type": "code",
   "execution_count": 36,
   "metadata": {},
   "outputs": [
    {
     "data": {
      "text/plain": [
       "array([0., 0., 0.])"
      ]
     },
     "execution_count": 36,
     "metadata": {},
     "output_type": "execute_result"
    }
   ],
   "source": [
    "theta_m = np.zeros(3)\n",
    "theta_m"
   ]
  },
  {
   "cell_type": "code",
   "execution_count": 37,
   "metadata": {},
   "outputs": [
    {
     "name": "stdout",
     "output_type": "stream",
     "text": [
      "Choosing best learning rate ...\n",
      "Theta found on 0.01:\n",
      "[338175.984, 103032.1243, -202.3252]\n",
      "Theta found on 0.03:\n",
      "[340412.5768, 109372.3081, -6502.8665]\n",
      "Theta found on 0.1:\n",
      "[340412.6596, 109447.7965, -6578.3548]\n",
      "Theta found on 0.3:\n",
      "[340412.6596, 109447.7965, -6578.3549]\n",
      "Theta found on 1:\n",
      "[340412.6596, 109447.7965, -6578.3549]\n"
     ]
    },
    {
     "data": {
      "image/png": "[encoded data removed]",
      "text/plain": [
       "<Figure size 432x288 with 1 Axes>"
      ]
     },
     "metadata": {},
     "output_type": "display_data"
    }
   ],
   "source": [
    "print(\"Choosing best learning rate ...\")\n",
    "iterations = 500\n",
    "for alpha in [0.01,0.03,0.1,0.3,1]:\n",
    "    thetam,cost_history = gradient_descent(x_norm,y_train,theta_m,alpha,iterations)\n",
    "    thetam = [round(each,4) for each in thetam]\n",
    "    print(\"Theta found on %s:\" % str(alpha))\n",
    "    print(thetam)\n",
    "    plt.plot(range(iterations),cost_history,label='lr:'+str(alpha))\n",
    "plt.xlabel(\"Iters\")\n",
    "plt.ylabel(\"Loss\")\n",
    "plt.title(\"Traing loss by GD on multiple features\")\n",
    "plt.legend()\n",
    "plt.show()"
   ]
  },
  {
   "cell_type": "markdown",
   "metadata": {},
   "source": [
    "With a small learning rate, you should find that gradient descent takes a very long time to converge to the optimal value. Conversely, with a large learning rate, gradient descent might not converge or might even diverge!"
   ]
  },
  {
   "cell_type": "code",
   "execution_count": 47,
   "metadata": {},
   "outputs": [
    {
     "name": "stdout",
     "output_type": "stream",
     "text": [
      "Retraining model on best learning rate ...\n",
      "Theta found by gradient descent:\n",
      "[338658.2492, 103322.8294, -474.7425]\n"
     ]
    },
    {
     "data": {
      "image/png": "[encoded data removed]",
      "text/plain": [
       "<Figure size 432x288 with 1 Axes>"
      ]
     },
     "metadata": {},
     "output_type": "display_data"
    }
   ],
   "source": [
    "# The best learning rate is 0.1\n",
    "\n",
    "print(\"Retraining model on best learning rate ...\")\n",
    "iterations = 50\n",
    "alpha = 0.1\n",
    "opt_thetam,cost_history = gradient_descent(x_norm,y_train,theta_m,alpha,iterations)\n",
    "opt_thetam = [round(each,4) for each in opt_thetam]\n",
    "print(\"Theta found by gradient descent:\")\n",
    "print(opt_thetam)\n",
    "\n",
    "plt.plot(range(iterations),cost_history)\n",
    "plt.xlabel(\"Iters\")\n",
    "plt.ylabel(\"Loss\")\n",
    "plt.title(\"Traing loss by GD on multiple features\")\n",
    "plt.show()"
   ]
  },
  {
   "cell_type": "markdown",
   "metadata": {},
   "source": [
    "**2. Predicting price for new house.**\n",
    "\n",
    "Use this parameter to predict the price of a house with 1650 square feet and 3 bedrooms."
   ]
  },
  {
   "cell_type": "code",
   "execution_count": 48,
   "metadata": {},
   "outputs": [
    {
     "data": {
      "text/plain": [
       "array([ 1.        , -0.44604386, -0.22609337])"
      ]
     },
     "execution_count": 48,
     "metadata": {},
     "output_type": "execute_result"
    }
   ],
   "source": [
    "new_x = [1650,3]\n",
    "new_x = (new_x-mean_train)/std_train\n",
    "new_x = np.append([1],new_x)\n",
    "new_x"
   ]
  },
  {
   "cell_type": "code",
   "execution_count": 49,
   "metadata": {},
   "outputs": [
    {
     "name": "stdout",
     "output_type": "stream",
     "text": [
      "Predicted price of a 1650 sq-ft, 3 br house :292679.0716\n"
     ]
    }
   ],
   "source": [
    "gd_price = round(np.dot(new_x,opt_thetam),4)\n",
    "print(\"Predicted price of a 1650 sq-ft, 3 br house :%.4f\" % gd_price)"
   ]
  },
  {
   "cell_type": "markdown",
   "metadata": {},
   "source": [
    "### 3.3 Normal Equations\n",
    "\n",
    "$$\n",
    "\\theta = (X^T X)^{-1}X^TY\n",
    "$$\n",
    "\n",
    "Using this formula does not require any feature scaling.We still\n",
    "need to add a column of 1’s to the X matrix to have an intercept term."
   ]
  },
  {
   "cell_type": "code",
   "execution_count": 41,
   "metadata": {},
   "outputs": [],
   "source": [
    "def normal_eqn(x,y):\n",
    "    f = np.linalg.inv(np.dot(x.T,x))\n",
    "    theta = np.dot(np.dot(f,x.T),y)\n",
    "    return theta"
   ]
  },
  {
   "cell_type": "code",
   "execution_count": 42,
   "metadata": {},
   "outputs": [],
   "source": [
    "x_normeq = np.concatenate((np.ones((len(y_train),1)),x_train),axis=1)\n",
    "theta_norm = normal_eqn(x_normeq,y_train)"
   ]
  },
  {
   "cell_type": "code",
   "execution_count": 43,
   "metadata": {},
   "outputs": [
    {
     "data": {
      "text/plain": [
       "array([89597.9095428 ,   139.21067402, -8738.01911233])"
      ]
     },
     "execution_count": 43,
     "metadata": {},
     "output_type": "execute_result"
    }
   ],
   "source": [
    "theta_norm"
   ]
  },
  {
   "cell_type": "code",
   "execution_count": 50,
   "metadata": {},
   "outputs": [
    {
     "name": "stdout",
     "output_type": "stream",
     "text": [
      "[   1 1650    3]\n",
      "Predicted price of a 1650 sq-ft, 3 br house by norm eaquation:293081.4643\n"
     ]
    }
   ],
   "source": [
    "new_x = [1650,3]\n",
    "new_x = np.append([1],new_x)\n",
    "print(new_x)\n",
    "norm_price = round(np.dot(new_x,theta_norm),4)\n",
    "print(\"Predicted price of a 1650 sq-ft, 3 br house by norm eaquation:%.4f\" % norm_price)"
   ]
  },
  {
   "cell_type": "markdown",
   "metadata": {},
   "source": [
    "We should get the same predicted price as the value you obtained using the model fit with gradient descent"
   ]
  },
  {
   "cell_type": "code",
   "execution_count": 51,
   "metadata": {},
   "outputs": [
    {
     "data": {
      "text/plain": [
       "(292679.0716, 293081.4643)"
      ]
     },
     "execution_count": 51,
     "metadata": {},
     "output_type": "execute_result"
    }
   ],
   "source": [
    "gd_price,norm_price"
   ]
  },
  {
   "cell_type": "code",
   "execution_count": null,
   "metadata": {},
   "outputs": [],
   "source": []
  }
 ],
 "metadata": {
  "kernelspec": {
   "display_name": "Python 3",
   "language": "python",
   "name": "python3"
  },
  "language_info": {
   "codemirror_mode": {
    "name": "ipython",
    "version": 3
   },
   "file_extension": ".py",
   "mimetype": "text/x-python",
   "name": "python",
   "nbconvert_exporter": "python",
   "pygments_lexer": "ipython3",
   "version": "3.6.5"
  }
 },
 "nbformat": 4,
 "nbformat_minor": 2
}
